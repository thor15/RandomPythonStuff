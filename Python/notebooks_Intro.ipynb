{
  "metadata": {
    "kernelspec": {
      "display_name": "Pyolite",
      "language": "python",
      "name": "python"
    },
    "language_info": {
      "codemirror_mode": {
        "name": "python",
        "version": 3
      },
      "file_extension": ".py",
      "mimetype": "text/x-python",
      "name": "python",
      "nbconvert_exporter": "python",
      "pygments_lexer": "ipython3",
      "version": "3.8"
    }
  },
  "nbformat_minor": 5,
  "nbformat": 4,
  "cells": [
    {
      "cell_type": "markdown",
      "source": "# Introduction to the JupyterLab and Jupyter Notebooks\n\nThis is a short introduction to two of the flagship tools created by [the Jupyter Community](https://jupyter.org).\n\n> **⚠️Experimental!⚠️**: This is an experimental interface provided by the [JupyterLite project](https://jupyterlite.readthedocs.io/en/latest/). It embeds an entire JupyterLab interface, with many popular packages for scientific computing, in your browser. There may be minor differences in behavior between JupyterLite and the JupyterLab you install locally. You may also encounter some bugs or unexpected behavior. To report any issues, or to get involved with the JupyterLite project, see [the JupyterLite repository](https://github.com/jupyterlite/jupyterlite/issues?q=is%3Aissue+is%3Aopen+sort%3Aupdated-desc).\n\n## JupyterLab 🧪\n\n**JupyterLab** is a next-generation web-based user interface for Project Jupyter. It enables you to work with documents and activities such as Jupyter notebooks, text editors, terminals, and custom components in a flexible, integrated, and extensible manner. It is the interface that you're looking at right now.\n\n**For an overview of the JupyterLab interface**, see the **JupyterLab Welcome Tour** on this page, by going to `Help -> Welcome Tour` and following the prompts.\n\n> **See Also**: For a more in-depth tour of JupyterLab with a full environment that runs in the cloud, see [the JupyterLab introduction on Binder](https://mybinder.org/v2/gh/jupyterlab/jupyterlab-demo/HEAD?urlpath=lab/tree/demo).\n\n## Jupyter Notebooks 📓\n\n**Jupyter Notebooks** are a community standard for communicating and performing interactive computing. They are a document that blends computations, outputs, explanatory text, mathematics, images, and rich media representations of objects.\n\nJupyterLab is one interface used to create and interact with Jupyter Notebooks.\n\n**For an overview of Jupyter Notebooks**, see the **JupyterLab Welcome Tour** on this page, by going to `Help -> Notebook Tour` and following the prompts.\n\n> **See Also**: For a more in-depth tour of Jupyter Notebooks and the Classic Jupyter Notebook interface, see [the Jupyter Notebook IPython tutorial on Binder](https://mybinder.org/v2/gh/ipython/ipython-in-depth/HEAD?urlpath=tree/binder/Index.ipynb).\n\n## An example: visualizing data in the notebook ✨\n\nBelow is an example of a code cell. We'll visualize some simple data using two popular packages in Python. We'll use [NumPy](https://numpy.org/) to create some random data, and [Matplotlib](https://matplotlib.org) to visualize it.\n\nNote how the code and the results of running the code are bundled together.",
      "metadata": {},
      "id": "a35eeb9f-df70-4ab1-a243-2d2025888eb0"
    },
    {
      "cell_type": "code",
      "source": "MAX_INT = 80\n\ndef mandelbrot(c):\n    z = 0\n    step = 0\n    while(abs(z) <= 2 and step < MAX_INT):\n        z = z*z + c\n        step += 1\n    return step\n\n\nfor a in range(-10, 10, 5):\n    for b in range(-10, 10, 5):\n        c = complex(a/10, b/10)\n        print(c, mandelbrot(c))\n\n",
      "metadata": {
        "trusted": true
      },
      "execution_count": 6,
      "outputs": [
        {
          "name": "stdout",
          "text": "(-1-1j) 3\n(-1-0.5j) 5\n(-1+0j) 80\n(-1+0.5j) 5\n(-0.5-1j) 4\n(-0.5-0.5j) 80\n(-0.5+0j) 80\n(-0.5+0.5j) 80\n-1j 80\n-0.5j 80\n0j 80\n0.5j 80\n(0.5-1j) 2\n(0.5-0.5j) 5\n(0.5+0j) 5\n(0.5+0.5j) 5\n",
          "output_type": "stream"
        }
      ],
      "id": "fe55883a-6887-43dd-9498-5333a51799e2"
    },
    {
      "cell_type": "markdown",
      "source": "## Next steps 🏃\n\nThis is just a short introduction to JupyterLab and Jupyter Notebooks. See below for some more ways to interact with tools in the Jupyter ecosystem, and its community.\n\n### Other notebooks in this demo\n\nHere are some other notebooks in this demo. Each of the items below corresponds to a file or folder in the **file browser to the left**.\n\n- [**`Lorenz.ipynb`**](Lorenz.ipynb) uses Python to demonstrate interactive visualizations and computations around the [Lorenz system](https://en.wikipedia.org/wiki/Lorenz_system). It shows off basic Python functionality, including more visualizations, data structures, and scientific computing libraries.\n- [**`sqlite.ipynb`**](sqlite.ipynb) demonstrates how an in-browser sqlite kernel to run your own SQL commands from the notebook. It uses the [jupyterlite/xeus-sqlite-kernel](https://github.com/jupyterlite/xeus-sqlite-kernel).\n\n### Other sources of information in Jupyter\n\n- **More on using JupyterLab**: See [the JupyterLab documentation](https://jupyterlab.readthedocs.io/en/stable/) for more thorough information about how to install and use JupyterLab.\n- **More interactive demos**: See [try.jupyter.org](https://try.jupyter.org) for more interactive demos with the Jupyter ecosystem.\n- **Learn more about Jupyter**: See [the Jupyter community documentation](https://docs.jupyter.org) to learn more about the project, its community and tools, and how to get involved.\n- **Join our discussions**: The [Jupyter Community Forum](https://discourse.jupyter.org) is a place where many in the Jupyter community ask questions, help one another, and discuss issues around interactive computing and our ecosystem.",
      "metadata": {},
      "id": "b9670d85-ef29-4dfd-b4b5-e76d279c1f1a"
    },
    {
      "cell_type": "code",
      "source": "plt.close()\nMAX_ITER = 40\nVALUEX = []\nVALUEY = []\nVALUEZ = []\n#please format with sapce between the different xs and the sign attached to the  \nINPUT = \"87x^8 -30x^6 +x^4 -x^3 +8x^2 -3x +0x\"\nXMULTIPLESF = []\nXMULTIPLESD = []\nPOWERS = []\nROOTNUM = 0\n\nTEMPPOLY = INPUT.split(' ')\nfor i in range(0, len(TEMPPOLY),1):\n    ROW = TEMPPOLY[i].split('x')\n    if(ROW[0] == \"-\" or ROW[0] == \"+\" or ROW[0] == \"\"):\n        ROW[0] = ROW[0] + \"1\"\n    if(ROW[1] == \"\"):\n        ROW[1] = ROW[1] + \"1\"\n    XMULTIPLESF.append(int(ROW[0]))\n    power = int(ROW[1].replace(\"^\",\"\"))\n    POWERS.append(power)\n    \nfor a in range(0, len(POWERS)-1, 1):\n    if(POWERS[a] - 1 > POWERS[a+1]):\n        XMULTIPLESF.insert(a+1, 0)\n        POWERS.insert(a+1, POWERS[a]-1)\n\nfor a in range(0, len(XMULTIPLESF)-1, 1):\n    XMULTIPLESD.append(XMULTIPLESF[a]*(len(XMULTIPLESF)-1-a))\n\nROOTNUM = len(XMULTIPLESF)-1",
      "metadata": {
        "trusted": true
      },
      "execution_count": 88,
      "outputs": [],
      "id": "736a14d3-f2e2-4f4b-a591-a2ef7c01e836"
    },
    {
      "cell_type": "code",
      "source": "import math\nimport matplotlib.pyplot as plt\n\n\n\n\nTEMPORARYROOTS = []\nNUM = []\nNEWTONOUT = []\n\n\n\n#f(x) = x^{5}-3x^{4}+x^{3}\\ -\\ 3x^{2}-x+2\n#(z*z*z*z*z - 3*z*z*z*z + z*z*z - 3*z*z - z + 2)/(5*z*z*z*z - 12*z*z*z + 3*z*z - 6*z - 1)\n#f'(x) = 5x^4 - 12x^3 + 3x^2 - 6x - 1\ndef newton(z, step):\n    steps = step\n    if(steps < MAX_ITER):\n        d = z - ((f(z))/(derivF(z)))\n        #print(steps, d)\n        steps += 1\n        return newton(d, steps)\n    else:\n        return z\n\ndef f(z):\n    result = XMULTIPLESF[0]\n    for i in range(1, len(XMULTIPLESF), 1):\n        result = result*z + XMULTIPLESF[i]\n    return result\n\ndef derivF(z):\n    result = XMULTIPLESD[0]\n    for i in range(1, len(XMULTIPLESD), 1):\n        result = result*z + XMULTIPLESD[i]\n    return result\n\ndef nearestRoot(position, cROOTS):\n    min = pow(2, 32)\n    ind = -1\n    for i in range(0, len(cROOTS), 1):\n        if(math.sqrt(pow(position.real - cROOTS[i].real,2)+pow(position.imag - cROOTS[i].imag, 2)).real < min):\n            min = math.sqrt(pow(position.real - cROOTS[i].real,2)+pow(position.imag - cROOTS[i].imag, 2)).real\n            ind = i\n    return ind\n\n#might need to do this with a secodn for loop\n#if(NEWTONOUT[i].real*1000000 in range(TEMPORARYROOTS[i].real*1000000-1,TEMPORARYROOTS[i].real*1000000 +1) \n#           and NEWTONOUT[i].imag*1000000 in range(TEMPORARYROOTS[i].imag*1000000-1,TEMPORARYROOTS[i].imag*1000000 +1)):\n#            NUM[TEMPORARYROOTS.index(NEWTONOUT[i])] += 1   \n\ndef findRoots():\n    #print(len(NEWTONOUT))\n    for i in range(0, len(NEWTONOUT), 1):\n        if(NEWTONOUT[i] in TEMPORARYROOTS):\n            NUM[TEMPORARYROOTS.index(NEWTONOUT[i])] += 1   \n        else:\n            TEMPORARYROOTS.append(NEWTONOUT[i])\n            NUM.append(1)\n    #print(TEMPORARYROOTS)\n    tempDict = dict(zip(TEMPORARYROOTS, NUM))\n    #print(tempDict)\n    sorted_values = sorted(tempDict.values(), reverse=True)\n    sorted_dict = {}\n    # Traverse through all array elements\n    for i in sorted_values:\n        for k in tempDict.keys():\n            if tempDict[k] == i:\n                sorted_dict[k] = tempDict[k]\n                break\n    \n    \n    sorted_keys = []\n    for i in sorted_dict.keys():\n        sorted_keys.append(i)\n    \n    for i in range(ROOTNUM, len(sorted_dict), 1):\n        sorted_dict.pop(sorted_keys[i])\n        #i -= 1\n            \n    cROOTS = []\n    for i in sorted_dict.keys():\n        cROOTS.append(i)\n    print(cROOTS)\n    return cROOTS\n    \nfig, ax = plt.subplots()\nfor a in range(-200, 200, 1):\n    for b in range(-200, 200, 1):\n        c = complex(a/10, b/10)\n        d = newton(c,0)\n        NEWTONOUT.append(complex(round(d.real,8),round(d.imag,8)))\n        \n        \ncurrentROOTS = findRoots()\n\nfor a in range(0, 400, 1):\n    for b in range(0, 400, 1):\n        VALUEX.append(a-200)\n        VALUEY.append(b-200)\n        e = nearestRoot(NEWTONOUT[a*400+b], currentROOTS)\n        VALUEZ.append(e)\n\n#print(NEWTONOUT)\n#print(VALUEZ)\nax.scatter(x=VALUEX, y=VALUEY, c=VALUEZ)\nplt.show()",
      "metadata": {
        "trusted": true
      },
      "execution_count": 89,
      "outputs": [
        {
          "ename": "<class 'IndexError'>",
          "evalue": "list index out of range",
          "traceback": [
            "\u001b[0;31m---------------------------------------------------------------------------\u001b[0m",
            "\u001b[0;31mIndexError\u001b[0m                                Traceback (most recent call last)",
            "Input \u001b[0;32mIn [91]\u001b[0m, in \u001b[0;36m<cell line: 92>\u001b[0;34m()\u001b[0m\n\u001b[1;32m     88\u001b[0m         d \u001b[38;5;241m=\u001b[39m newton(c,\u001b[38;5;241m0\u001b[39m)\n\u001b[1;32m     89\u001b[0m         NEWTONOUT\u001b[38;5;241m.\u001b[39mappend(\u001b[38;5;28mcomplex\u001b[39m(\u001b[38;5;28mround\u001b[39m(d\u001b[38;5;241m.\u001b[39mreal,\u001b[38;5;241m8\u001b[39m),\u001b[38;5;28mround\u001b[39m(d\u001b[38;5;241m.\u001b[39mimag,\u001b[38;5;241m8\u001b[39m)))\n\u001b[0;32m---> 92\u001b[0m currentROOTS \u001b[38;5;241m=\u001b[39m \u001b[43mfindRoots\u001b[49m\u001b[43m(\u001b[49m\u001b[43m)\u001b[49m\n\u001b[1;32m     94\u001b[0m \u001b[38;5;28;01mfor\u001b[39;00m a \u001b[38;5;129;01min\u001b[39;00m \u001b[38;5;28mrange\u001b[39m(\u001b[38;5;241m0\u001b[39m, \u001b[38;5;241m400\u001b[39m, \u001b[38;5;241m1\u001b[39m):\n\u001b[1;32m     95\u001b[0m     \u001b[38;5;28;01mfor\u001b[39;00m b \u001b[38;5;129;01min\u001b[39;00m \u001b[38;5;28mrange\u001b[39m(\u001b[38;5;241m0\u001b[39m, \u001b[38;5;241m400\u001b[39m, \u001b[38;5;241m1\u001b[39m):\n",
            "Input \u001b[0;32mIn [91]\u001b[0m, in \u001b[0;36mfindRoots\u001b[0;34m()\u001b[0m\n\u001b[1;32m     48\u001b[0m \u001b[38;5;28;01mdef\u001b[39;00m \u001b[38;5;21mfindRoots\u001b[39m():\n\u001b[1;32m     49\u001b[0m     \u001b[38;5;66;03m#print(len(NEWTONOUT))\u001b[39;00m\n\u001b[1;32m     50\u001b[0m     \u001b[38;5;28;01mfor\u001b[39;00m i \u001b[38;5;129;01min\u001b[39;00m \u001b[38;5;28mrange\u001b[39m(\u001b[38;5;241m0\u001b[39m, \u001b[38;5;28mlen\u001b[39m(NEWTONOUT), \u001b[38;5;241m1\u001b[39m):\n\u001b[0;32m---> 51\u001b[0m         \u001b[38;5;28;01mif\u001b[39;00m(NEWTONOUT[i]\u001b[38;5;241m.\u001b[39mreal\u001b[38;5;241m*\u001b[39m\u001b[38;5;241m1000000\u001b[39m \u001b[38;5;129;01min\u001b[39;00m \u001b[38;5;28mrange\u001b[39m(\u001b[43mTEMPORARYROOTS\u001b[49m\u001b[43m[\u001b[49m\u001b[43mi\u001b[49m\u001b[43m]\u001b[49m\u001b[38;5;241m.\u001b[39mreal\u001b[38;5;241m*\u001b[39m\u001b[38;5;241m1000000\u001b[39m\u001b[38;5;241m-\u001b[39m\u001b[38;5;241m1\u001b[39m,TEMPORARYROOTS[i]\u001b[38;5;241m.\u001b[39mreal\u001b[38;5;241m*\u001b[39m\u001b[38;5;241m1000000\u001b[39m \u001b[38;5;241m+\u001b[39m\u001b[38;5;241m1\u001b[39m) \n\u001b[1;32m     52\u001b[0m            \u001b[38;5;129;01mand\u001b[39;00m NEWTONOUT[i]\u001b[38;5;241m.\u001b[39mimag\u001b[38;5;241m*\u001b[39m\u001b[38;5;241m1000000\u001b[39m \u001b[38;5;129;01min\u001b[39;00m \u001b[38;5;28mrange\u001b[39m(TEMPORARYROOTS[i]\u001b[38;5;241m.\u001b[39mimag\u001b[38;5;241m*\u001b[39m\u001b[38;5;241m1000000\u001b[39m\u001b[38;5;241m-\u001b[39m\u001b[38;5;241m1\u001b[39m,TEMPORARYROOTS[i]\u001b[38;5;241m.\u001b[39mimag\u001b[38;5;241m*\u001b[39m\u001b[38;5;241m1000000\u001b[39m \u001b[38;5;241m+\u001b[39m\u001b[38;5;241m1\u001b[39m)):\n\u001b[1;32m     53\u001b[0m             NUM[TEMPORARYROOTS\u001b[38;5;241m.\u001b[39mindex(NEWTONOUT[i])] \u001b[38;5;241m+\u001b[39m\u001b[38;5;241m=\u001b[39m \u001b[38;5;241m1\u001b[39m   \n\u001b[1;32m     54\u001b[0m         \u001b[38;5;28;01melse\u001b[39;00m:\n",
            "\u001b[0;31mIndexError\u001b[0m: list index out of range"
          ],
          "output_type": "error"
        }
      ],
      "id": "4f8ba60c-0b4f-4881-8a5c-ee517f736f93"
    },
    {
      "cell_type": "code",
      "source": "",
      "metadata": {},
      "execution_count": null,
      "outputs": [],
      "id": "482a0c4a-9d90-4dd8-975d-e34139aa0b42"
    }
  ]
}